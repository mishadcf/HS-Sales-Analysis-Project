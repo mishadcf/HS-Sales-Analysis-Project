{
 "cells": [
  {
   "cell_type": "code",
   "execution_count": null,
   "id": "30011c46-5727-4cb2-9cbd-dfb2313d5ed5",
   "metadata": {},
   "outputs": [],
   "source": [
    "import pandas as pd\n",
    "import seaborn as sns\n",
    "import matplotlib.pyplot as plt\n",
    "import os"
   ]
  },
  {
   "cell_type": "code",
   "execution_count": null,
   "id": "6c162ec8-f111-46f2-9b9f-c99932d7c8ec",
   "metadata": {},
   "outputs": [],
   "source": [
    "curr_dir=os.getcwd()"
   ]
  },
  {
   "cell_type": "code",
   "execution_count": null,
   "id": "afad9957-7f80-4086-aaa9-585a0c5cddbe",
   "metadata": {},
   "outputs": [],
   "source": [
    "os.listdir(curr_dir)\n"
   ]
  },
  {
   "cell_type": "code",
   "execution_count": null,
   "id": "07a879bf-62c6-48f2-87a3-1933acf0c75f",
   "metadata": {},
   "outputs": [],
   "source": [
    "df=pd.read_csv('Allairbnbreservations.csv')"
   ]
  },
  {
   "cell_type": "code",
   "execution_count": null,
   "id": "0450c3a3-03f5-4f58-92b9-d3675cbf6e6f",
   "metadata": {},
   "outputs": [],
   "source": []
  },
  {
   "cell_type": "code",
   "execution_count": null,
   "id": "946dd2df-6ca3-4b58-8666-08daf269dd74",
   "metadata": {},
   "outputs": [],
   "source": []
  },
  {
   "cell_type": "code",
   "execution_count": null,
   "id": "0e3dfc4d-50cb-4045-a83a-360770017d49",
   "metadata": {},
   "outputs": [],
   "source": []
  },
  {
   "cell_type": "code",
   "execution_count": null,
   "id": "80c530e9-3f26-49a0-8ae6-3e253cc9330f",
   "metadata": {},
   "outputs": [],
   "source": [
    "df.Contact\n"
   ]
  },
  {
   "cell_type": "code",
   "execution_count": null,
   "id": "2f821310-e71f-4b06-9f4c-a9a0ee99d578",
   "metadata": {},
   "outputs": [],
   "source": []
  },
  {
   "cell_type": "code",
   "execution_count": null,
   "id": "60dd470f-8230-4dd1-9b65-cdf290881016",
   "metadata": {},
   "outputs": [],
   "source": [
    "df=df.drop('Contact', axis=1)"
   ]
  },
  {
   "cell_type": "code",
   "execution_count": null,
   "id": "985fe2ee-f5d7-45b7-a3ac-6dc1c0daa36b",
   "metadata": {},
   "outputs": [],
   "source": []
  },
  {
   "cell_type": "code",
   "execution_count": null,
   "id": "d19b0361-9867-42e7-b1cc-2499814825a7",
   "metadata": {},
   "outputs": [],
   "source": []
  },
  {
   "cell_type": "code",
   "execution_count": null,
   "id": "37a61e30-43fa-491b-8ddd-73ab08659552",
   "metadata": {},
   "outputs": [],
   "source": [
    "print(df.columns)"
   ]
  },
  {
   "cell_type": "code",
   "execution_count": null,
   "id": "d925e1b9-02f9-455e-aeaf-45fd9d7f1881",
   "metadata": {},
   "outputs": [],
   "source": []
  },
  {
   "cell_type": "code",
   "execution_count": null,
   "id": "6ed1ebd6-7a49-4504-8a7f-096230950e43",
   "metadata": {},
   "outputs": [],
   "source": []
  },
  {
   "cell_type": "code",
   "execution_count": null,
   "id": "de642020-c170-402e-8c87-60594f59e35c",
   "metadata": {},
   "outputs": [],
   "source": [
    "airbnb_columns=['Confirmation code', 'Status', 'Guest name', '# of adults',\n",
    "       '# of children', '# of infants', 'Start date', 'End date',\n",
    "       '# of nights', 'Booked', 'Listing', 'Earnings']"
   ]
  },
  {
   "cell_type": "code",
   "execution_count": null,
   "id": "796c31bf-ca2c-497a-9d3d-103c5d9d3305",
   "metadata": {},
   "outputs": [],
   "source": []
  },
  {
   "cell_type": "code",
   "execution_count": null,
   "id": "ad42ed9c-a3fa-4c78-9012-d933deed1619",
   "metadata": {},
   "outputs": [],
   "source": [
    "df['channel']='airbnb'"
   ]
  },
  {
   "cell_type": "code",
   "execution_count": null,
   "id": "aaea5daf-aec5-4f51-8f9a-2e5d413bcd89",
   "metadata": {},
   "outputs": [],
   "source": [
    "ab"
   ]
  },
  {
   "cell_type": "code",
   "execution_count": null,
   "id": "a45950fe-18b4-4e05-ad2e-5bb668aae4a9",
   "metadata": {},
   "outputs": [],
   "source": []
  },
  {
   "cell_type": "code",
   "execution_count": null,
   "id": "8ef351d9-9247-4f26-b240-5c07f50f0d26",
   "metadata": {},
   "outputs": [],
   "source": [
    "ab=df"
   ]
  },
  {
   "cell_type": "code",
   "execution_count": null,
   "id": "46729f05-05f0-4f68-a8d5-7f1a114d4a41",
   "metadata": {},
   "outputs": [],
   "source": []
  },
  {
   "cell_type": "code",
   "execution_count": null,
   "id": "f4b058d6-1d57-41a5-8c26-2db55bede2cc",
   "metadata": {},
   "outputs": [],
   "source": []
  },
  {
   "cell_type": "code",
   "execution_count": null,
   "id": "56245faa-ab42-46ae-af2a-29bede0eec03",
   "metadata": {},
   "outputs": [],
   "source": [
    "# drop cancelled reservations?\n",
    "\n",
    "ab=ab.drop(ab[ab.Status =='Cancelled by guest'].index)\n",
    "ab=ab.drop(ab[ab.Status =='Cancelled by Airbnb'].index)"
   ]
  },
  {
   "cell_type": "code",
   "execution_count": null,
   "id": "f70878e3-2f05-4fe9-821e-c55c69a1c080",
   "metadata": {},
   "outputs": [],
   "source": []
  },
  {
   "cell_type": "code",
   "execution_count": null,
   "id": "82a9fb3b-e8b4-40dd-a5bd-5b77c151658c",
   "metadata": {},
   "outputs": [],
   "source": []
  },
  {
   "cell_type": "code",
   "execution_count": null,
   "id": "c0b12996-991e-4377-9eb4-3218d2369875",
   "metadata": {},
   "outputs": [],
   "source": [
    "# Need to save\n",
    "ab.to_csv('Allairbnbreservations.csv',index=False)"
   ]
  },
  {
   "cell_type": "code",
   "execution_count": null,
   "id": "d6038cf2-f67d-43c5-9863-1183a9cdf021",
   "metadata": {},
   "outputs": [],
   "source": [
    "#ab is clean Airbnb reservations DataFrame, load others cleaned previously...\n",
    "\n",
    "web=pd.read_csv('cleanedwebsitebookings.csv')\n",
    "b=pd.read_csv('Bookingcomres.csv')\n",
    "b\n",
    "\n"
   ]
  },
  {
   "cell_type": "code",
   "execution_count": null,
   "id": "a4075869-44a4-488c-ab17-50c922f14f6c",
   "metadata": {},
   "outputs": [],
   "source": []
  },
  {
   "cell_type": "code",
   "execution_count": null,
   "id": "95945acb-2609-43a0-97d8-c1fe76cf8c70",
   "metadata": {},
   "outputs": [],
   "source": []
  },
  {
   "cell_type": "code",
   "execution_count": null,
   "id": "8a8ab18a-5b2c-462f-be23-81f430875713",
   "metadata": {},
   "outputs": [],
   "source": [
    "ab.columns"
   ]
  },
  {
   "cell_type": "code",
   "execution_count": null,
   "id": "b65c3d4c-eff0-4bf3-9262-c410f76ad076",
   "metadata": {},
   "outputs": [],
   "source": []
  },
  {
   "cell_type": "code",
   "execution_count": null,
   "id": "ebba5eb0-6434-4665-ba30-516f5642dfbe",
   "metadata": {},
   "outputs": [],
   "source": []
  },
  {
   "cell_type": "code",
   "execution_count": null,
   "id": "999f81f0-95e2-404a-873f-3f9bc46aaecd",
   "metadata": {},
   "outputs": [],
   "source": [
    "b.columns"
   ]
  },
  {
   "cell_type": "code",
   "execution_count": null,
   "id": "c9b64593-7bde-4e4a-96c7-0532970c0069",
   "metadata": {},
   "outputs": [],
   "source": [
    "web['earnings']=web['paid']-web['stripe_fee']"
   ]
  },
  {
   "cell_type": "code",
   "execution_count": null,
   "id": "af14e05e-e3a7-462e-bc3e-9d6708f53b08",
   "metadata": {},
   "outputs": [],
   "source": [
    "web"
   ]
  },
  {
   "cell_type": "code",
   "execution_count": null,
   "id": "fc3dc6b0-f11f-46f1-8203-458842382818",
   "metadata": {},
   "outputs": [],
   "source": [
    "web.to_csv('cleanedwebsitebookings.csv', index=False)"
   ]
  },
  {
   "cell_type": "code",
   "execution_count": null,
   "id": "905936f9-e820-4d97-a1ce-9f482c92cf6d",
   "metadata": {},
   "outputs": [],
   "source": [
    "web.columns"
   ]
  },
  {
   "cell_type": "code",
   "execution_count": null,
   "id": "d0baa5b2-e914-4cf6-b85f-28676d3b3544",
   "metadata": {},
   "outputs": [],
   "source": []
  },
  {
   "cell_type": "code",
   "execution_count": null,
   "id": "5b496d7c-1f46-44b2-bae9-0668d7d5ba50",
   "metadata": {},
   "outputs": [],
   "source": [
    "b.columns"
   ]
  },
  {
   "cell_type": "code",
   "execution_count": null,
   "id": "b0ea3067-cfca-4b8e-af89-ce9e06c82bab",
   "metadata": {},
   "outputs": [],
   "source": [
    "b=b.rename(columns={'Net':'earnings'})"
   ]
  },
  {
   "cell_type": "code",
   "execution_count": null,
   "id": "2fc0d5a5-48c0-43dc-b00a-2c9de52c0df4",
   "metadata": {},
   "outputs": [],
   "source": [
    "b.columns"
   ]
  },
  {
   "cell_type": "code",
   "execution_count": null,
   "id": "5ff8d70f-e1bd-4205-ac70-f45cd407827c",
   "metadata": {},
   "outputs": [],
   "source": [
    "b.to_csv('Bookingcomres.csv',index=False)"
   ]
  },
  {
   "cell_type": "code",
   "execution_count": null,
   "id": "d554f005-8912-449c-92fe-d807da072b63",
   "metadata": {},
   "outputs": [],
   "source": []
  },
  {
   "cell_type": "code",
   "execution_count": null,
   "id": "dbd18783-8f5f-4981-ac70-d4aa431a251b",
   "metadata": {},
   "outputs": [],
   "source": []
  },
  {
   "cell_type": "code",
   "execution_count": null,
   "id": "d0f49a1f-756b-4e02-9d55-9f8e0603088a",
   "metadata": {},
   "outputs": [],
   "source": [
    "b.drop(columns='Unnamed: 11', inplace=True)\n",
    "b['channel']='booking.com'\n",
    "b.to_csv('Bookingcomres.csv',index=False)"
   ]
  },
  {
   "cell_type": "code",
   "execution_count": null,
   "id": "97ac42b2-c268-4fb4-a4e3-bd87717c3c22",
   "metadata": {},
   "outputs": [],
   "source": [
    "b.columns"
   ]
  },
  {
   "cell_type": "code",
   "execution_count": null,
   "id": "467d041f-47ec-4b43-8f8f-ae2423c55593",
   "metadata": {},
   "outputs": [],
   "source": []
  },
  {
   "cell_type": "code",
   "execution_count": null,
   "id": "696d6af1-81fc-40f6-9cd3-d1a6128dbadf",
   "metadata": {},
   "outputs": [],
   "source": [
    "# # To Do\n",
    "# Need to find common columns to book all bookings in the same sheet\n",
    "\n",
    "cols_ab=['Confirmation code', 'Status', 'Guest name', '# of adults',\n",
    "       '# of children', '# of infants', 'Start date', 'End date',\n",
    "       '# of nights', 'Booked', 'Listing', 'Earnings', 'channel']\n",
    "\n",
    "cols_web=['booking_id', 'status', 'name', 'email', 'telephone', 'created',\n",
    "       'start', 'end', 'days', 'price', 'paid', 'stripe_fee', 'units_price',\n",
    "       'discount', 'channel', 'origin', 'notes', 'adults', 'children', 'ages',\n",
    "       'units', 'site_opt_in', 'month_created', 'earnings']\n",
    "\n",
    "cols_b=['Type', 'Reference number', 'Check-in', 'Checkout', 'Guest name',\n",
    "       'Reservation status', 'Currency', 'Payment status', 'Amount',\n",
    "       'Commission', 'Payment charge', 'earnings', 'Payout date', 'Payout ID',\n",
    "       'channel']"
   ]
  },
  {
   "cell_type": "code",
   "execution_count": null,
   "id": "a0b27eb4-04f6-4c50-bd53-33ba2a9d2138",
   "metadata": {},
   "outputs": [],
   "source": [
    "import pandas as pd\n",
    "\n",
    "# Create the mapping dictionary\n",
    "column_mapping = {\n",
    "    'ab': {\n",
    "        'Confirmation code': 'booking_id',\n",
    "        'Status': 'status',\n",
    "        'Guest name': 'name',\n",
    "        '# of adults': 'adults',\n",
    "        '# of children': 'children',\n",
    "        '# of infants': 'infants',\n",
    "        'Start date': 'start',\n",
    "        'End date': 'end',\n",
    "        '# of nights': 'nights',\n",
    "        'Booked': 'created',\n",
    "        'Listing': 'origin',\n",
    "        'Earnings': 'earnings',\n",
    "        'channel': 'channel'\n",
    "    },\n",
    "    'b': {\n",
    "        'Type': 'booking_type',\n",
    "        'Reference number': 'booking_id',\n",
    "        'Check-in': 'start',\n",
    "        'Checkout': 'end',\n",
    "        'Guest name': 'name',\n",
    "        'Reservation status': 'status',\n",
    "        'Currency': 'currency',\n",
    "        'Payment status': 'payment_status',\n",
    "        'Amount': 'amount',\n",
    "        'Commission': 'commission',\n",
    "        'Payment charge': 'payment_charge',\n",
    "        'earnings': 'earnings',\n",
    "        'Payout date': 'payout_date',\n",
    "        'Payout ID': 'payout_id',\n",
    "        'channel': 'channel'\n",
    "    },\n",
    "    'web': {\n",
    "        'booking_id': 'booking_id',\n",
    "        'status': 'status',\n",
    "        'name': 'name',\n",
    "        'email': 'email',\n",
    "        'telephone': 'telephone',\n",
    "        'created': 'created',\n",
    "        'start': 'start',\n",
    "        'end': 'end',\n",
    "        'days': 'nights',\n",
    "        'price': 'price',\n",
    "        'paid': 'paid',\n",
    "        'stripe_fee': 'stripe_fee',\n",
    "        'units_price': 'units_price',\n",
    "        'discount': 'discount',\n",
    "        'channel': 'channel',\n",
    "        'origin': 'origin',\n",
    "        'notes': 'notes',\n",
    "        'adults': 'adults',\n",
    "        'children': 'children',\n",
    "        'ages': 'ages',\n",
    "        'units': 'units',\n",
    "        'site_opt_in': 'site_opt_in',\n",
    "        'month_created': 'month_created',\n",
    "        'earnings': 'earnings'\n",
    "    }\n",
    "}\n",
    "\n",
    "# Rename columns of each DataFrame using the mapping dictionary\n",
    "ab = ab.rename(columns=column_mapping['ab'])\n",
    "b = b.rename(columns=column_mapping['b'])\n",
    "web = web.rename(columns=column_mapping['web'])\n",
    "\n",
    "# Concatenate the DataFrames and normalize column names\n",
    "master_df = pd.concat([ab, b, web], ignore_index=True)\n"
   ]
  },
  {
   "cell_type": "code",
   "execution_count": null,
   "id": "707c7ddf-6882-48ed-9b1f-b635390be987",
   "metadata": {},
   "outputs": [],
   "source": []
  },
  {
   "cell_type": "code",
   "execution_count": null,
   "id": "c0f95850-def3-449c-a698-e3944fdb35a0",
   "metadata": {},
   "outputs": [],
   "source": []
  },
  {
   "cell_type": "code",
   "execution_count": null,
   "id": "244e0dc7-f9e8-419c-bb50-df7843d8aacf",
   "metadata": {},
   "outputs": [],
   "source": []
  },
  {
   "cell_type": "code",
   "execution_count": null,
   "id": "16165f0b-0cc0-48ed-821b-fd2cd8824822",
   "metadata": {},
   "outputs": [],
   "source": []
  },
  {
   "cell_type": "code",
   "execution_count": null,
   "id": "85b06fc0-994d-41c5-927b-92a9ff75a88a",
   "metadata": {},
   "outputs": [],
   "source": []
  },
  {
   "cell_type": "code",
   "execution_count": null,
   "id": "12d161bc-f1d4-462d-8bac-2bf3e19bc541",
   "metadata": {},
   "outputs": [],
   "source": []
  },
  {
   "cell_type": "code",
   "execution_count": null,
   "id": "56864ace-1606-4f18-9204-db7f530078f0",
   "metadata": {},
   "outputs": [],
   "source": []
  },
  {
   "cell_type": "code",
   "execution_count": null,
   "id": "09d80d07-d015-447c-a79c-a0c7828cf55c",
   "metadata": {},
   "outputs": [],
   "source": []
  },
  {
   "cell_type": "code",
   "execution_count": null,
   "id": "19ed07bb-5c88-4647-a130-cbe7b0cc9eb9",
   "metadata": {},
   "outputs": [],
   "source": []
  },
  {
   "cell_type": "code",
   "execution_count": null,
   "id": "f9d9f5e0-407f-474c-86aa-85af392d4506",
   "metadata": {},
   "outputs": [],
   "source": [
    "master_df.to_csv('allbookingsallplatforms.csv', index=False)"
   ]
  },
  {
   "cell_type": "code",
   "execution_count": null,
   "id": "06f72248-7640-4a36-aa3a-ea49c1bebd17",
   "metadata": {},
   "outputs": [],
   "source": []
  },
  {
   "cell_type": "code",
   "execution_count": null,
   "id": "1f1dfa33-0231-44db-9be8-a84b2c2baf90",
   "metadata": {},
   "outputs": [],
   "source": []
  },
  {
   "cell_type": "code",
   "execution_count": null,
   "id": "2289f5c2-e9de-42d5-91f4-5df37af4dd2b",
   "metadata": {},
   "outputs": [],
   "source": []
  },
  {
   "cell_type": "code",
   "execution_count": null,
   "id": "6f22544d-7712-4653-8a18-892ba7c36eb8",
   "metadata": {},
   "outputs": [],
   "source": []
  },
  {
   "cell_type": "code",
   "execution_count": null,
   "id": "eb61f8f6-a073-46ba-922a-9c4276ae9cea",
   "metadata": {},
   "outputs": [],
   "source": []
  },
  {
   "cell_type": "code",
   "execution_count": null,
   "id": "4a285e88-6357-422c-ae0d-369a4dc81e06",
   "metadata": {},
   "outputs": [],
   "source": []
  },
  {
   "cell_type": "code",
   "execution_count": null,
   "id": "d468ef76-a26b-4f09-98a3-1eac8d0bdf94",
   "metadata": {},
   "outputs": [],
   "source": []
  },
  {
   "cell_type": "code",
   "execution_count": null,
   "id": "d169ca3a-3cfa-40d9-85c2-badf24a57979",
   "metadata": {},
   "outputs": [],
   "source": []
  }
 ],
 "metadata": {
  "kernelspec": {
   "display_name": "Python 3 (ipykernel)",
   "language": "python",
   "name": "python3"
  },
  "language_info": {
   "codemirror_mode": {
    "name": "ipython",
    "version": 3
   },
   "file_extension": ".py",
   "mimetype": "text/x-python",
   "name": "python",
   "nbconvert_exporter": "python",
   "pygments_lexer": "ipython3",
   "version": "3.9.13"
  }
 },
 "nbformat": 4,
 "nbformat_minor": 5
}
