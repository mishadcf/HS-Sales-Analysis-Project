{
 "cells": [
  {
   "cell_type": "code",
   "execution_count": null,
   "id": "adec1954-097f-4a34-840d-ecf47ea7110f",
   "metadata": {},
   "outputs": [],
   "source": [
    "#Data from 5 Jun onward"
   ]
  },
  {
   "cell_type": "code",
   "execution_count": null,
   "id": "49392f05-7b05-4284-899a-4f0c48ae2a92",
   "metadata": {},
   "outputs": [],
   "source": [
    "import pandas as pd\n",
    "import seaborn as sns \n",
    "import folium \n",
    "import matplotlib.pyplot as plt\n",
    "import os"
   ]
  },
  {
   "cell_type": "code",
   "execution_count": null,
   "id": "5894f6bc-db75-4bc7-be36-ced3edf7c609",
   "metadata": {},
   "outputs": [],
   "source": [
    "curr_dir=os.getcwd()\n",
    "\n"
   ]
  },
  {
   "cell_type": "code",
   "execution_count": null,
   "id": "2a41832d-5477-499c-b6d3-cd1b68f0394c",
   "metadata": {},
   "outputs": [],
   "source": [
    "os.listdir(curr_dir)\n"
   ]
  },
  {
   "cell_type": "code",
   "execution_count": null,
   "id": "8580e7ae-fafd-4a49-9aa8-33db1fffe98f",
   "metadata": {},
   "outputs": [],
   "source": [
    "website_bookings=pd.read_csv('12112-Hartridge SpringsBookings-3.csv', encoding='iso-8859-1')\n"
   ]
  },
  {
   "cell_type": "code",
   "execution_count": null,
   "id": "5a1f6cbc-8fd6-4566-ad28-e62f064d1f74",
   "metadata": {},
   "outputs": [],
   "source": [
    "website_bookings.dropna(axis=0)\n",
    "\n"
   ]
  },
  {
   "cell_type": "code",
   "execution_count": null,
   "id": "b850dc31-c5be-437c-a2a8-918470e25789",
   "metadata": {},
   "outputs": [],
   "source": [
    "website_bookings.isna().sum()\n"
   ]
  },
  {
   "cell_type": "code",
   "execution_count": null,
   "id": "c57e2db4-9ff7-45fe-a069-40830a59d177",
   "metadata": {},
   "outputs": [],
   "source": [
    "website_bookings.dropna(axis=1, how='all', inplace=True)\n",
    "\n",
    "#Drop columns consisting entirely of nulls"
   ]
  },
  {
   "cell_type": "code",
   "execution_count": null,
   "id": "29029bc1-9d09-4592-83ff-e1f9fafab3ba",
   "metadata": {},
   "outputs": [],
   "source": [
    "website_bookings"
   ]
  },
  {
   "cell_type": "code",
   "execution_count": null,
   "id": "68fdba04-d2bf-4427-a6c9-56096a36897e",
   "metadata": {},
   "outputs": [],
   "source": [
    "website_bookings.address"
   ]
  },
  {
   "cell_type": "code",
   "execution_count": null,
   "id": "ca331924-6c4e-4f6f-81a2-e7ed5f23b4a9",
   "metadata": {},
   "outputs": [],
   "source": [
    "website_bookings_only=website_bookings.drop(website_bookings[website_bookings['name']=='Not available'].index)"
   ]
  },
  {
   "cell_type": "code",
   "execution_count": null,
   "id": "5e54fb83-0bef-4d32-9918-d85cc607ed28",
   "metadata": {},
   "outputs": [],
   "source": [
    "website_bookings_only"
   ]
  },
  {
   "cell_type": "code",
   "execution_count": null,
   "id": "6e800307-f386-46ad-9056-317020a4926d",
   "metadata": {},
   "outputs": [],
   "source": [
    "website_bookings_only=website_bookings_only.drop(website_bookings_only[website_bookings_only['name']=='Reserved'].index)"
   ]
  },
  {
   "cell_type": "code",
   "execution_count": null,
   "id": "6f04ac6a-1b8d-401b-a3cd-29188566a3a3",
   "metadata": {},
   "outputs": [],
   "source": [
    "website_bookings_only\n"
   ]
  },
  {
   "cell_type": "code",
   "execution_count": null,
   "id": "783083d2-e72f-4070-8fea-b60d2df392fa",
   "metadata": {},
   "outputs": [],
   "source": [
    "website_bookings_only.address.isnull().sum()"
   ]
  },
  {
   "cell_type": "markdown",
   "id": "e8cb9a8c-1682-4dd2-bd32-7ac3d2ec5389",
   "metadata": {},
   "source": [
    "Drop address"
   ]
  },
  {
   "cell_type": "code",
   "execution_count": null,
   "id": "11b80bf2-6155-4491-ac9d-918819e0f496",
   "metadata": {},
   "outputs": [],
   "source": [
    "website_bookings_only.drop(columns='address',inplace=True)"
   ]
  },
  {
   "cell_type": "code",
   "execution_count": null,
   "id": "a1a5696d-24b4-4eac-a07f-e5c858e0c898",
   "metadata": {},
   "outputs": [],
   "source": [
    "website_bookings_only.drop(columns='extras',inplace=True)"
   ]
  },
  {
   "cell_type": "code",
   "execution_count": null,
   "id": "fc448dd0-2222-4d4c-a093-9f3d220dc71c",
   "metadata": {},
   "outputs": [],
   "source": [
    "names=pd.DataFrame(website_bookings_only.name)"
   ]
  },
  {
   "cell_type": "code",
   "execution_count": null,
   "id": "d47f9908-2620-46bd-9f62-cf0fce793428",
   "metadata": {},
   "outputs": [],
   "source": [
    "website_bookings_only.columns"
   ]
  },
  {
   "cell_type": "code",
   "execution_count": null,
   "id": "154f2495-33f5-467e-940b-9563454c6deb",
   "metadata": {},
   "outputs": [],
   "source": [
    "website_bookings_only=website_bookings_only.drop(columns=['extras_price','currency','site_id'])"
   ]
  },
  {
   "cell_type": "code",
   "execution_count": null,
   "id": "b8148ea9-d6e8-4c7c-afa8-c36e8e0523ef",
   "metadata": {},
   "outputs": [],
   "source": [
    "website_bookings_only.info()"
   ]
  },
  {
   "cell_type": "code",
   "execution_count": null,
   "id": "5dcffb33-a8d1-44dc-8aa9-8390137b1562",
   "metadata": {},
   "outputs": [],
   "source": [
    "non_null_columns = website_bookings_only.columns[website_bookings_only.notnull().any()]\n",
    "website_bookings_only_non_null = website_bookings_only[non_null_columns]\n",
    "\n",
    "# Print the DataFrame with non-null columns\n",
    "print(website_bookings_only_non_null)"
   ]
  },
  {
   "cell_type": "code",
   "execution_count": null,
   "id": "f3e0d83f-907c-4989-818e-92b7c12c84f5",
   "metadata": {},
   "outputs": [],
   "source": [
    "website_bookings_only.admin_notes[website_bookings_only.admin_notes.notnull()]"
   ]
  },
  {
   "cell_type": "code",
   "execution_count": null,
   "id": "f5815ca2-0235-4199-ba5b-25f9febf6b40",
   "metadata": {},
   "outputs": [],
   "source": [
    "website_bookings_only.drop(columns=['admin_notes'], inplace=True)"
   ]
  },
  {
   "cell_type": "code",
   "execution_count": null,
   "id": "1d072629-5f5e-46ff-80ed-7ce4256437cb",
   "metadata": {},
   "outputs": [],
   "source": [
    "website_bookings_only"
   ]
  },
  {
   "cell_type": "code",
   "execution_count": null,
   "id": "e43d88e3-2ce0-4aed-bcdf-e9a8fcb4b18b",
   "metadata": {},
   "outputs": [],
   "source": [
    "website_bookings_only=website_bookings_only.drop(columns='postcode')"
   ]
  },
  {
   "cell_type": "code",
   "execution_count": null,
   "id": "741d8756-1200-4fc8-a0c9-99153638a602",
   "metadata": {},
   "outputs": [],
   "source": [
    "website_bookings_only.info()"
   ]
  },
  {
   "cell_type": "markdown",
   "id": "8da9180d-d496-4903-9053-3f2b25362a0c",
   "metadata": {},
   "source": [
    "Seems now we have only informative columns \n",
    "\n",
    "Note to self: Can I get the addresses by exploring Bewebsite_bookings_onlyul Bookings?"
   ]
  },
  {
   "cell_type": "code",
   "execution_count": null,
   "id": "8a1f3de8-7139-48bd-82a2-78212e49f72d",
   "metadata": {},
   "outputs": [],
   "source": [
    "emails= website_bookings_only.email[website_bookings_only.email.notnull()]"
   ]
  },
  {
   "cell_type": "code",
   "execution_count": null,
   "id": "66efce2b-52f8-41e4-83bf-68dc85a5e243",
   "metadata": {},
   "outputs": [],
   "source": [
    "emails.info"
   ]
  },
  {
   "cell_type": "code",
   "execution_count": null,
   "id": "b35f8e75-eadc-42a8-8203-e625340e4f4c",
   "metadata": {},
   "outputs": [],
   "source": [
    "cust_info=website_bookings_only[['name','email','telephone']]"
   ]
  },
  {
   "cell_type": "code",
   "execution_count": null,
   "id": "9ea2ea1f-982d-4d36-9baf-935b50a51e5f",
   "metadata": {},
   "outputs": [],
   "source": [
    "cust_info.to_csv('CustInfoFromWebsiteBookings.csv',index=False)"
   ]
  },
  {
   "cell_type": "code",
   "execution_count": null,
   "id": "4570f25f-c6d1-4288-8c75-df5814428d98",
   "metadata": {},
   "outputs": [],
   "source": [
    "website_bookings_only"
   ]
  },
  {
   "cell_type": "code",
   "execution_count": null,
   "id": "15152f0b-089c-45ee-89dd-c9f38333ad20",
   "metadata": {},
   "outputs": [],
   "source": [
    "website_bookings_only.created.dtype"
   ]
  },
  {
   "cell_type": "code",
   "execution_count": null,
   "id": "cbf5f727-81ee-4f9e-b4e1-5676924f3429",
   "metadata": {},
   "outputs": [],
   "source": [
    "website_bookings_only['start'] = pd.to_datetime(website_bookings_only['start'], format=\"%d/%m/%Y\")\n",
    "website_bookings_only['end'] = pd.to_datetime(website_bookings_only['end'], format=\"%d/%m/%Y\")\n",
    "\n"
   ]
  },
  {
   "cell_type": "code",
   "execution_count": null,
   "id": "68e81076-a712-4f22-87e6-7ab96ff8ad6a",
   "metadata": {},
   "outputs": [],
   "source": [
    "website_bookings_only=website_bookings_only.drop(columns=['due','commission','commission_net'])"
   ]
  },
  {
   "cell_type": "code",
   "execution_count": null,
   "id": "f4aecb30-e70a-4691-8768-ba8a0d8495a6",
   "metadata": {},
   "outputs": [],
   "source": [
    "website_bookings_only.dtypes"
   ]
  },
  {
   "cell_type": "code",
   "execution_count": null,
   "id": "e7c36d21-54a1-49b0-93f6-8d71a3d48d00",
   "metadata": {},
   "outputs": [],
   "source": [
    "website_bookings_only['created'] = website_bookings_only['created'].dt.strftime(\"%d-%m-%Y\")\n",
    "website_bookings_only['start'] = website_bookings_only['start'].dt.strftime(\"%d-%m-%Y\")\n",
    "website_bookings_only['end'] = website_bookings_only['end'].dt.strftime(\"%d-%m-%Y\")\n",
    "\n",
    "\n",
    "website_bookings_only['created'] = pd.to_datetime(website_bookings_only['created'], format=\"%d-%m-%Y\")\n",
    "website_bookings_only['start'] = pd.to_datetime(website_bookings_only['start'], format=\"%d-%m-%Y\")\n",
    "website_bookings_only['end'] = pd.to_datetime(website_bookings_only['end'], format=\"%d-%m-%Y\")"
   ]
  },
  {
   "cell_type": "code",
   "execution_count": null,
   "id": "f0541740-740c-4335-be2e-7f4b850197bc",
   "metadata": {},
   "outputs": [],
   "source": [
    "website_bookings_only.dtypes"
   ]
  },
  {
   "cell_type": "code",
   "execution_count": null,
   "id": "17701103-a7a5-4200-b20f-cc59a8ec4370",
   "metadata": {},
   "outputs": [],
   "source": [
    "website_bookings_only"
   ]
  },
  {
   "cell_type": "code",
   "execution_count": null,
   "id": "2ace3bb7-5d4c-43b8-9dd0-c97e2b7b3cae",
   "metadata": {},
   "outputs": [],
   "source": [
    "website_bookings_only.info()"
   ]
  },
  {
   "cell_type": "code",
   "execution_count": null,
   "id": "1d6f9140-2501-4231-b487-88b21d06509d",
   "metadata": {},
   "outputs": [],
   "source": [
    "website_bookings_only.to_csv('cleanedwebsitebookings.csv', index=False)"
   ]
  },
  {
   "cell_type": "code",
   "execution_count": null,
   "id": "a970aa14-893e-47f2-b6b6-5ae1cfd91f47",
   "metadata": {},
   "outputs": [],
   "source": [
    "website_bookings_only.dropna(subset=['name'], inplace=True)"
   ]
  },
  {
   "cell_type": "code",
   "execution_count": null,
   "id": "29826702-8c90-4322-a69c-7a2e693f5b23",
   "metadata": {},
   "outputs": [],
   "source": [
    "website_bookings_only.name.isnull().sum()"
   ]
  },
  {
   "cell_type": "code",
   "execution_count": null,
   "id": "6d615d1f-a24a-4535-916d-4becf6a41282",
   "metadata": {},
   "outputs": [],
   "source": [
    "website_bookings_only"
   ]
  },
  {
   "cell_type": "code",
   "execution_count": null,
   "id": "2a2ed829-d5a2-46b2-988c-2384f7777fed",
   "metadata": {},
   "outputs": [],
   "source": [
    "\n",
    "website_bookings_only['telephone'] = website_bookings_only['telephone'].str.replace(r'\\D', '', regex=True)\n"
   ]
  },
  {
   "cell_type": "code",
   "execution_count": null,
   "id": "6819a668-e7e3-46a8-81f5-87f5269b9b21",
   "metadata": {},
   "outputs": [],
   "source": []
  },
  {
   "cell_type": "code",
   "execution_count": null,
   "id": "0bcc6f0e-9b27-46fc-914f-bcc8e788c8ec",
   "metadata": {},
   "outputs": [],
   "source": [
    "website_bookings_only.to_csv('websitebookingscleaned.csv',index=False) # Need to remove Pitchup bookings also\n"
   ]
  },
  {
   "cell_type": "code",
   "execution_count": null,
   "id": "26fdb8d9-e5fe-4d28-9a63-b70eb5f26c7c",
   "metadata": {},
   "outputs": [],
   "source": [
    "website_bookings_only=website_bookings_only[website_bookings_only.channel!= 'Pitchup']"
   ]
  },
  {
   "cell_type": "code",
   "execution_count": null,
   "id": "e9e799d9-14a1-4abd-b731-2f1f8ead7f52",
   "metadata": {},
   "outputs": [],
   "source": [
    "website_bookings_only"
   ]
  },
  {
   "cell_type": "code",
   "execution_count": null,
   "id": "ea7900a1-666c-4de1-b9e7-a3775d48f7df",
   "metadata": {},
   "outputs": [],
   "source": [
    "website_bookings_only.dropna(subset=['email'], inplace=True)"
   ]
  },
  {
   "cell_type": "code",
   "execution_count": null,
   "id": "2e1a8cae-d14a-4eba-aec7-4d0ec09da1ef",
   "metadata": {},
   "outputs": [],
   "source": [
    "website_bookings_only.channel.value_counts()"
   ]
  },
  {
   "cell_type": "code",
   "execution_count": null,
   "id": "6408667e-1c6d-4aef-872a-9357876e37ab",
   "metadata": {},
   "outputs": [],
   "source": [
    "website_bookings_only.to_csv('cleanedwebsitebookings.csv', index=False)"
   ]
  },
  {
   "cell_type": "code",
   "execution_count": null,
   "id": "54183aa7-0189-40be-8838-10a80d3a7b74",
   "metadata": {},
   "outputs": [],
   "source": [
    "website_bookings_only['month_created']=website_bookings_only.created.dt.strftime('%B %Y')"
   ]
  },
  {
   "cell_type": "code",
   "execution_count": null,
   "id": "a2478275-e3dc-46a6-8b9a-125855811fd3",
   "metadata": {},
   "outputs": [],
   "source": [
    "website_bookings_only.month_created"
   ]
  },
  {
   "cell_type": "code",
   "execution_count": null,
   "id": "661c43df-e2c0-47e0-940a-7568794ee09f",
   "metadata": {},
   "outputs": [],
   "source": [
    "website_bookings_only['month_created'] = pd.to_datetime(website_bookings_only['month_created'], format='%B %Y')"
   ]
  },
  {
   "cell_type": "code",
   "execution_count": null,
   "id": "c08ebd55-12ae-46c1-a42a-6616ea95f689",
   "metadata": {},
   "outputs": [],
   "source": [
    " website_bookings_only['month_created'] = website_bookings_only['month_created'].dt.to_period('M').dt.to_timestamp()\n"
   ]
  },
  {
   "cell_type": "code",
   "execution_count": null,
   "id": "d883eddd-47f1-4f71-aff9-561f3d7d056b",
   "metadata": {},
   "outputs": [],
   "source": [
    "website_bookings_only"
   ]
  },
  {
   "cell_type": "code",
   "execution_count": null,
   "id": "4fdfe69d-432c-4908-ad21-8206053f6172",
   "metadata": {},
   "outputs": [],
   "source": [
    "website_bookings_only['month_created'] = website_bookings_only['month_created'].dt.to_period('M')"
   ]
  },
  {
   "cell_type": "code",
   "execution_count": null,
   "id": "ebcd8266-1096-4487-a675-85aeb53b05b4",
   "metadata": {},
   "outputs": [],
   "source": [
    "website_bookings_only.month_created.dtype\n"
   ]
  },
  {
   "cell_type": "code",
   "execution_count": null,
   "id": "0b6b30f9-dd99-4b2b-9600-b347766dfc89",
   "metadata": {},
   "outputs": [],
   "source": [
    "revenue_by_month = website_bookings_only.groupby('month_created')['paid'].sum()"
   ]
  },
  {
   "cell_type": "code",
   "execution_count": null,
   "id": "e5a3b30d-d7b0-4f23-9fcf-ede77d2dbfc6",
   "metadata": {},
   "outputs": [],
   "source": [
    "revenue_by_month"
   ]
  },
  {
   "cell_type": "code",
   "execution_count": null,
   "id": "1d053efb-88e3-42d0-9ea8-77dc0fcbf3b7",
   "metadata": {},
   "outputs": [],
   "source": [
    "website_bookings_only = website_bookings_only.join(revenue_by_month, on='month_created', rsuffix='_sum')"
   ]
  },
  {
   "cell_type": "code",
   "execution_count": null,
   "id": "d681e919-0111-47a1-b213-b65a0ca17a37",
   "metadata": {},
   "outputs": [],
   "source": [
    "website_bookings_only.rename(columns={'paid_sum': 'monthly_revenue'}, inplace=True)\n",
    "\n"
   ]
  },
  {
   "cell_type": "code",
   "execution_count": null,
   "id": "4bcf4e59-bb8d-478d-bbf2-b98ed0d161c6",
   "metadata": {},
   "outputs": [],
   "source": [
    "website_bookings_only.month_revenue.plt"
   ]
  },
  {
   "cell_type": "code",
   "execution_count": null,
   "id": "ea52eb35-abbc-4947-9c2d-1e64681bc000",
   "metadata": {},
   "outputs": [],
   "source": [
    "sns.barplot(x='month_created', y='monthly_revenue', data=website_bookings_only)\n",
    "plt.xlabel('Month')\n",
    "plt.ylabel('Monthly Revenue')\n",
    "plt.title('Monthly Revenue')\n",
    "plt.xticks(rotation='vertical')\n",
    "plt.show()"
   ]
  },
  {
   "cell_type": "code",
   "execution_count": null,
   "id": "8213859a-0c49-4278-add6-a18fb83a1871",
   "metadata": {},
   "outputs": [],
   "source": [
    "website_bookings_only.to_csv('websitebookingscleaned.csv',index=False)"
   ]
  },
  {
   "cell_type": "code",
   "execution_count": null,
   "id": "7593e0f9-dbdd-4867-beab-29dce08e0e44",
   "metadata": {},
   "outputs": [],
   "source": [
    "clean=pd.read_csv('cleanedwebsitebookings.csv')"
   ]
  },
  {
   "cell_type": "code",
   "execution_count": null,
   "id": "0f76ab07-afe0-449d-9e70-b4128c28d172",
   "metadata": {},
   "outputs": [],
   "source": [
    "clean['channel']='Website'"
   ]
  },
  {
   "cell_type": "code",
   "execution_count": null,
   "id": "c230e8af-8cfa-4906-8060-95e22fbb23bf",
   "metadata": {},
   "outputs": [],
   "source": [
    "clean"
   ]
  },
  {
   "cell_type": "code",
   "execution_count": null,
   "id": "7454b78d-8ccc-4b0e-b196-b9a0a61b4c19",
   "metadata": {},
   "outputs": [],
   "source": [
    "clean.to_csv('websitebookingscleaned.csv',index=False)"
   ]
  },
  {
   "cell_type": "code",
   "execution_count": null,
   "id": "950c3cf3-a76d-4d06-a0a4-6691f2123e2a",
   "metadata": {},
   "outputs": [],
   "source": [
    "clean.columns"
   ]
  },
  {
   "cell_type": "code",
   "execution_count": null,
   "id": "8d8292fc-9c2a-41f5-8bfd-6a2565016e6b",
   "metadata": {},
   "outputs": [],
   "source": []
  }
 ],
 "metadata": {
  "kernelspec": {
   "display_name": "Python 3 (ipykernel)",
   "language": "python",
   "name": "python3"
  },
  "language_info": {
   "codemirror_mode": {
    "name": "ipython",
    "version": 3
   },
   "file_extension": ".py",
   "mimetype": "text/x-python",
   "name": "python",
   "nbconvert_exporter": "python",
   "pygments_lexer": "ipython3",
   "version": "3.9.13"
  }
 },
 "nbformat": 4,
 "nbformat_minor": 5
}
