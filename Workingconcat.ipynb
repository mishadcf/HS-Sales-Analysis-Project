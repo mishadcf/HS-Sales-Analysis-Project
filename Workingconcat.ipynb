{
 "cells": [
  {
   "cell_type": "code",
   "execution_count": null,
   "id": "2357be71-29b0-4e85-865a-473019f25efc",
   "metadata": {},
   "outputs": [],
   "source": [
    "import pandas as pd"
   ]
  },
  {
   "cell_type": "code",
   "execution_count": null,
   "id": "1563ddce-50a7-4093-9443-9a806f34b119",
   "metadata": {},
   "outputs": [],
   "source": [
    "a=pd.read_csv('Allairbnbreservations.csv')"
   ]
  },
  {
   "cell_type": "code",
   "execution_count": null,
   "id": "ec1a3a82-79e7-4690-aa23-f3da347d0eac",
   "metadata": {},
   "outputs": [],
   "source": [
    "ab=a"
   ]
  },
  {
   "cell_type": "code",
   "execution_count": null,
   "id": "837f079b-f6f3-4770-a72d-247f65383298",
   "metadata": {},
   "outputs": [],
   "source": [
    "a.columns"
   ]
  },
  {
   "cell_type": "code",
   "execution_count": null,
   "id": "852a638e-5fbb-42c7-a6f4-411c6d24ac60",
   "metadata": {},
   "outputs": [],
   "source": [
    "a.Earnings.dtype"
   ]
  },
  {
   "cell_type": "code",
   "execution_count": null,
   "id": "f40a0b06-ebc4-4dec-b8d3-91cfb836bfc9",
   "metadata": {},
   "outputs": [],
   "source": []
  },
  {
   "cell_type": "code",
   "execution_count": null,
   "id": "e90c21c2-14dd-4def-b8fb-42b7b965c1f2",
   "metadata": {},
   "outputs": [],
   "source": [
    "b=pd.read_csv('Bookingcomres.csv')"
   ]
  },
  {
   "cell_type": "code",
   "execution_count": null,
   "id": "ab20bce7-aab6-42f8-b9f4-33c453eec820",
   "metadata": {},
   "outputs": [],
   "source": [
    "b.columns"
   ]
  },
  {
   "cell_type": "code",
   "execution_count": null,
   "id": "c8e16149-012e-4544-8560-a7c75ad9179d",
   "metadata": {},
   "outputs": [],
   "source": []
  },
  {
   "cell_type": "code",
   "execution_count": null,
   "id": "ebc96edd-a91e-4977-9645-f50400f22866",
   "metadata": {},
   "outputs": [],
   "source": [
    "web=pd.read_csv('cleanedwebsitebookings.csv')"
   ]
  },
  {
   "cell_type": "code",
   "execution_count": null,
   "id": "6a83b04e-d3b3-43d5-8289-b449c881c18e",
   "metadata": {},
   "outputs": [],
   "source": [
    "web.columns"
   ]
  },
  {
   "cell_type": "code",
   "execution_count": null,
   "id": "f57dabea-397b-4c19-a545-79a6b623b043",
   "metadata": {},
   "outputs": [],
   "source": [
    "web.earnings.dtype"
   ]
  },
  {
   "cell_type": "code",
   "execution_count": null,
   "id": "793935ec-de3c-4575-bc3b-18afd4c48724",
   "metadata": {},
   "outputs": [],
   "source": [
    "\n",
    "\n",
    "\n",
    "\n",
    "\n",
    "web_cols=['booking_id', 'status', 'name', 'email', 'telephone', 'created',\n",
    "       'start', 'end', 'days', 'price', 'paid', 'stripe_fee', 'units_price',\n",
    "       'discount', 'channel', 'origin', 'notes', 'adults', 'children', 'ages',\n",
    "       'units', 'site_opt_in', 'month_created', 'earnings']\n",
    "\n",
    "ab_cols=['Confirmation code', 'Status', 'Guest name', '# of adults',\n",
    "       '# of children', '# of infants', 'Start date', 'End date',\n",
    "       '# of nights', 'Booked', 'Listing', 'Earnings', 'channel']\n",
    "\n",
    "b_cols= ['Type', 'Reference number', 'Check-in', 'Checkout', 'Guest name',\n",
    "       'Reservation status', 'Currency', 'Payment status', 'Amount',\n",
    "       'Commission', 'Payment charge', 'earnings', 'Payout date', 'Payout ID',\n",
    "       'channel']"
   ]
  },
  {
   "cell_type": "code",
   "execution_count": null,
   "id": "4e00aed9-fe50-4ea4-8b8b-470cc14dd444",
   "metadata": {},
   "outputs": [],
   "source": [
    "ab1=ab.copy()\n",
    "b1=b.copy()\n",
    "web1=web.copy()"
   ]
  },
  {
   "cell_type": "code",
   "execution_count": null,
   "id": "603941e5-ee01-4833-a3ba-d3ff82353711",
   "metadata": {},
   "outputs": [],
   "source": [
    "import pandas as pd\n",
    "\n",
    "\n",
    "\n",
    "# Mapping dictionary for DataFrame ab\n",
    "mapping_dict_ab1 = {\n",
    "    'Confirmation code': 'booking_id',\n",
    "    'Status': 'status',\n",
    "    'Guest name': 'name',\n",
    "    '# of adults': 'adults',\n",
    "    '# of children': 'children',\n",
    "    '# of infants': 'infants',\n",
    "    'Start date': 'start',\n",
    "    'End date': 'end',\n",
    "    '# of nights': 'days',\n",
    "    'Booked': 'created',\n",
    "    'Listing': 'origin',\n",
    "    'Earnings': 'earnings',\n",
    "    'channel': 'channel'\n",
    "}\n",
    "\n",
    "# Mapping dictionary for DataFrame b\n",
    "mapping_dict_b1 = {\n",
    "    'Type': 'type',\n",
    "    'Reference number': 'booking_id',\n",
    "    'Check-in': 'start',\n",
    "    'Checkout': 'end',\n",
    "    'Guest name': 'name',\n",
    "    'Reservation status': 'status',\n",
    "    'Currency': 'currency',\n",
    "    'Payment status': 'payment_status',\n",
    "    'Amount': 'amount',\n",
    "    'Commission': 'commission',\n",
    "    'Payment charge': 'payment_charge',\n",
    "    'earnings': 'earnings',\n",
    "    'Payout date': 'payout_date',\n",
    "    'Payout ID': 'payout_id',\n",
    "    'channel': 'channel'\n",
    "}\n",
    "\n",
    "# Mapping dictionary for DataFrame web\n",
    "mapping_dict_web1 = {\n",
    "    'booking_id': 'booking_id',\n",
    "    'status': 'status',\n",
    "    'name': 'name',\n",
    "    'email': 'email',\n",
    "    'telephone': 'telephone',\n",
    "    'created': 'created',\n",
    "    'start': 'start',\n",
    "    'end': 'end',\n",
    "    'days': 'days',\n",
    "    'price': 'price',\n",
    "    'paid': 'paid',\n",
    "    'stripe_fee': 'stripe_fee',\n",
    "    'units_price': 'units_price',\n",
    "    'discount': 'discount',\n",
    "    'channel': 'channel',\n",
    "    'origin': 'origin',\n",
    "    'notes': 'notes',\n",
    "    'adults': 'adults',\n",
    "    'children': 'children',\n",
    "    'ages': 'ages',\n",
    "    'units': 'units',\n",
    "    'site_opt_in': 'site_opt_in',\n",
    "    'month_created': 'month_created',\n",
    "    'earnings': 'earnings'\n",
    "}\n",
    "\n",
    "\n",
    "ab1 = ab1.rename(columns=mapping_dict_ab1)\n",
    "b1 = b1.rename(columns=mapping_dict_b1)\n",
    "web1 = web1.rename(columns=mapping_dict_web1)\n",
    "\n",
    "master_df = pd.concat([ab1, b1, web1], ignore_index=True)\n",
    "\n",
    "\n"
   ]
  },
  {
   "cell_type": "code",
   "execution_count": null,
   "id": "c2d38df0-047b-49d3-977d-e3283b87ec7e",
   "metadata": {},
   "outputs": [],
   "source": [
    "master_df"
   ]
  },
  {
   "cell_type": "code",
   "execution_count": null,
   "id": "e4b6f241-f28c-4cf0-8ea1-db4de7607f78",
   "metadata": {},
   "outputs": [],
   "source": [
    "master_df.to_csv('concatexperiment.csv')"
   ]
  },
  {
   "cell_type": "code",
   "execution_count": null,
   "id": "858a6ce9-a24d-4a97-b295-994733e18843",
   "metadata": {},
   "outputs": [],
   "source": [
    "master_df.info()"
   ]
  },
  {
   "cell_type": "code",
   "execution_count": null,
   "id": "1a26fc1e-144c-4d9e-8d50-fe4e77dfb5b8",
   "metadata": {},
   "outputs": [],
   "source": []
  },
  {
   "cell_type": "code",
   "execution_count": null,
   "id": "2be5143d-efe8-4fae-be7e-2665aa303b3c",
   "metadata": {},
   "outputs": [],
   "source": []
  }
 ],
 "metadata": {
  "kernelspec": {
   "display_name": "Python 3 (ipykernel)",
   "language": "python",
   "name": "python3"
  },
  "language_info": {
   "codemirror_mode": {
    "name": "ipython",
    "version": 3
   },
   "file_extension": ".py",
   "mimetype": "text/x-python",
   "name": "python",
   "nbconvert_exporter": "python",
   "pygments_lexer": "ipython3",
   "version": "3.9.13"
  }
 },
 "nbformat": 4,
 "nbformat_minor": 5
}
